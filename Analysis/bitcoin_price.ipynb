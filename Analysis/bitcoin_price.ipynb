{
 "cells": [
  {
   "cell_type": "code",
   "execution_count": 1,
   "metadata": {
    "collapsed": true
   },
   "outputs": [],
   "source": [
    "import numpy as np\n",
    "import scipy.stats as stats\n",
    "import pandas as pd\n",
    "\n",
    "import matplotlib.pyplot as plt\n",
    "import seaborn as sns\n",
    "sns.set_style('whitegrid')\n",
    "\n",
    "%matplotlib inline\n",
    "%config InlineBackend.figure_format ='retina'"
   ]
  },
  {
   "cell_type": "code",
   "execution_count": 2,
   "metadata": {
    "collapsed": true
   },
   "outputs": [],
   "source": [
    "token = pd.read_csv('/Users/zerindong/Desktop/Analysis/datasets/coinbaseUSD_1-min_data_2014-12-01_to_2017-10-20.csv.csv')"
   ]
  },
  {
   "cell_type": "code",
   "execution_count": 3,
   "metadata": {},
   "outputs": [
    {
     "data": {
      "text/html": [
       "<div>\n",
       "<style>\n",
       "    .dataframe thead tr:only-child th {\n",
       "        text-align: right;\n",
       "    }\n",
       "\n",
       "    .dataframe thead th {\n",
       "        text-align: left;\n",
       "    }\n",
       "\n",
       "    .dataframe tbody tr th {\n",
       "        vertical-align: top;\n",
       "    }\n",
       "</style>\n",
       "<table border=\"1\" class=\"dataframe\">\n",
       "  <thead>\n",
       "    <tr style=\"text-align: right;\">\n",
       "      <th></th>\n",
       "      <th>Timestamp</th>\n",
       "      <th>Open</th>\n",
       "      <th>High</th>\n",
       "      <th>Low</th>\n",
       "      <th>Close</th>\n",
       "      <th>Volume_(BTC)</th>\n",
       "      <th>Volume_(Currency)</th>\n",
       "      <th>Weighted_Price</th>\n",
       "    </tr>\n",
       "  </thead>\n",
       "  <tbody>\n",
       "    <tr>\n",
       "      <th>0</th>\n",
       "      <td>1417411980</td>\n",
       "      <td>300.0</td>\n",
       "      <td>300.0</td>\n",
       "      <td>300.0</td>\n",
       "      <td>300.0</td>\n",
       "      <td>0.01</td>\n",
       "      <td>3.0</td>\n",
       "      <td>300.0</td>\n",
       "    </tr>\n",
       "    <tr>\n",
       "      <th>1</th>\n",
       "      <td>1417412040</td>\n",
       "      <td>300.0</td>\n",
       "      <td>300.0</td>\n",
       "      <td>300.0</td>\n",
       "      <td>300.0</td>\n",
       "      <td>0.01</td>\n",
       "      <td>3.0</td>\n",
       "      <td>300.0</td>\n",
       "    </tr>\n",
       "    <tr>\n",
       "      <th>2</th>\n",
       "      <td>1417412100</td>\n",
       "      <td>300.0</td>\n",
       "      <td>300.0</td>\n",
       "      <td>300.0</td>\n",
       "      <td>300.0</td>\n",
       "      <td>0.01</td>\n",
       "      <td>3.0</td>\n",
       "      <td>300.0</td>\n",
       "    </tr>\n",
       "    <tr>\n",
       "      <th>3</th>\n",
       "      <td>1417412160</td>\n",
       "      <td>300.0</td>\n",
       "      <td>300.0</td>\n",
       "      <td>300.0</td>\n",
       "      <td>300.0</td>\n",
       "      <td>0.01</td>\n",
       "      <td>3.0</td>\n",
       "      <td>300.0</td>\n",
       "    </tr>\n",
       "    <tr>\n",
       "      <th>4</th>\n",
       "      <td>1417412220</td>\n",
       "      <td>300.0</td>\n",
       "      <td>300.0</td>\n",
       "      <td>300.0</td>\n",
       "      <td>300.0</td>\n",
       "      <td>0.01</td>\n",
       "      <td>3.0</td>\n",
       "      <td>300.0</td>\n",
       "    </tr>\n",
       "  </tbody>\n",
       "</table>\n",
       "</div>"
      ],
      "text/plain": [
       "    Timestamp   Open   High    Low  Close  Volume_(BTC)  Volume_(Currency)  \\\n",
       "0  1417411980  300.0  300.0  300.0  300.0          0.01                3.0   \n",
       "1  1417412040  300.0  300.0  300.0  300.0          0.01                3.0   \n",
       "2  1417412100  300.0  300.0  300.0  300.0          0.01                3.0   \n",
       "3  1417412160  300.0  300.0  300.0  300.0          0.01                3.0   \n",
       "4  1417412220  300.0  300.0  300.0  300.0          0.01                3.0   \n",
       "\n",
       "   Weighted_Price  \n",
       "0           300.0  \n",
       "1           300.0  \n",
       "2           300.0  \n",
       "3           300.0  \n",
       "4           300.0  "
      ]
     },
     "execution_count": 3,
     "metadata": {},
     "output_type": "execute_result"
    }
   ],
   "source": [
    "token.head()"
   ]
  },
  {
   "cell_type": "code",
   "execution_count": 4,
   "metadata": {},
   "outputs": [
    {
     "name": "stdout",
     "output_type": "stream",
     "text": [
      "<class 'pandas.core.frame.DataFrame'>\n",
      "RangeIndex: 1459076 entries, 0 to 1459075\n",
      "Data columns (total 8 columns):\n",
      "Timestamp            1459076 non-null int64\n",
      "Open                 1459076 non-null float64\n",
      "High                 1459076 non-null float64\n",
      "Low                  1459076 non-null float64\n",
      "Close                1459076 non-null float64\n",
      "Volume_(BTC)         1459076 non-null float64\n",
      "Volume_(Currency)    1459076 non-null float64\n",
      "Weighted_Price       1459076 non-null float64\n",
      "dtypes: float64(7), int64(1)\n",
      "memory usage: 89.1 MB\n"
     ]
    }
   ],
   "source": [
    "token.info()"
   ]
  },
  {
   "cell_type": "code",
   "execution_count": 5,
   "metadata": {},
   "outputs": [
    {
     "data": {
      "text/plain": [
       "Timestamp            0\n",
       "Open                 0\n",
       "High                 0\n",
       "Low                  0\n",
       "Close                0\n",
       "Volume_(BTC)         0\n",
       "Volume_(Currency)    0\n",
       "Weighted_Price       0\n",
       "dtype: int64"
      ]
     },
     "execution_count": 5,
     "metadata": {},
     "output_type": "execute_result"
    }
   ],
   "source": [
    "token.isnull().sum()"
   ]
  },
  {
   "cell_type": "code",
   "execution_count": 8,
   "metadata": {
    "collapsed": true
   },
   "outputs": [],
   "source": [
    "token['mid'] = (token['Open'] + token['Close'])/2\n",
    "token['avg'] = (token['High'] + token['Low'])/2"
   ]
  },
  {
   "cell_type": "code",
   "execution_count": 9,
   "metadata": {},
   "outputs": [
    {
     "data": {
      "text/html": [
       "<div>\n",
       "<style>\n",
       "    .dataframe thead tr:only-child th {\n",
       "        text-align: right;\n",
       "    }\n",
       "\n",
       "    .dataframe thead th {\n",
       "        text-align: left;\n",
       "    }\n",
       "\n",
       "    .dataframe tbody tr th {\n",
       "        vertical-align: top;\n",
       "    }\n",
       "</style>\n",
       "<table border=\"1\" class=\"dataframe\">\n",
       "  <thead>\n",
       "    <tr style=\"text-align: right;\">\n",
       "      <th></th>\n",
       "      <th>Timestamp</th>\n",
       "      <th>Open</th>\n",
       "      <th>High</th>\n",
       "      <th>Low</th>\n",
       "      <th>Close</th>\n",
       "      <th>Volume_(BTC)</th>\n",
       "      <th>Volume_(Currency)</th>\n",
       "      <th>Weighted_Price</th>\n",
       "      <th>mid</th>\n",
       "      <th>avg</th>\n",
       "    </tr>\n",
       "  </thead>\n",
       "  <tbody>\n",
       "    <tr>\n",
       "      <th>0</th>\n",
       "      <td>1417411980</td>\n",
       "      <td>300.0</td>\n",
       "      <td>300.0</td>\n",
       "      <td>300.0</td>\n",
       "      <td>300.0</td>\n",
       "      <td>0.01</td>\n",
       "      <td>3.0</td>\n",
       "      <td>300.0</td>\n",
       "      <td>300.0</td>\n",
       "      <td>300.0</td>\n",
       "    </tr>\n",
       "    <tr>\n",
       "      <th>1</th>\n",
       "      <td>1417412040</td>\n",
       "      <td>300.0</td>\n",
       "      <td>300.0</td>\n",
       "      <td>300.0</td>\n",
       "      <td>300.0</td>\n",
       "      <td>0.01</td>\n",
       "      <td>3.0</td>\n",
       "      <td>300.0</td>\n",
       "      <td>300.0</td>\n",
       "      <td>300.0</td>\n",
       "    </tr>\n",
       "    <tr>\n",
       "      <th>2</th>\n",
       "      <td>1417412100</td>\n",
       "      <td>300.0</td>\n",
       "      <td>300.0</td>\n",
       "      <td>300.0</td>\n",
       "      <td>300.0</td>\n",
       "      <td>0.01</td>\n",
       "      <td>3.0</td>\n",
       "      <td>300.0</td>\n",
       "      <td>300.0</td>\n",
       "      <td>300.0</td>\n",
       "    </tr>\n",
       "    <tr>\n",
       "      <th>3</th>\n",
       "      <td>1417412160</td>\n",
       "      <td>300.0</td>\n",
       "      <td>300.0</td>\n",
       "      <td>300.0</td>\n",
       "      <td>300.0</td>\n",
       "      <td>0.01</td>\n",
       "      <td>3.0</td>\n",
       "      <td>300.0</td>\n",
       "      <td>300.0</td>\n",
       "      <td>300.0</td>\n",
       "    </tr>\n",
       "    <tr>\n",
       "      <th>4</th>\n",
       "      <td>1417412220</td>\n",
       "      <td>300.0</td>\n",
       "      <td>300.0</td>\n",
       "      <td>300.0</td>\n",
       "      <td>300.0</td>\n",
       "      <td>0.01</td>\n",
       "      <td>3.0</td>\n",
       "      <td>300.0</td>\n",
       "      <td>300.0</td>\n",
       "      <td>300.0</td>\n",
       "    </tr>\n",
       "  </tbody>\n",
       "</table>\n",
       "</div>"
      ],
      "text/plain": [
       "    Timestamp   Open   High    Low  Close  Volume_(BTC)  Volume_(Currency)  \\\n",
       "0  1417411980  300.0  300.0  300.0  300.0          0.01                3.0   \n",
       "1  1417412040  300.0  300.0  300.0  300.0          0.01                3.0   \n",
       "2  1417412100  300.0  300.0  300.0  300.0          0.01                3.0   \n",
       "3  1417412160  300.0  300.0  300.0  300.0          0.01                3.0   \n",
       "4  1417412220  300.0  300.0  300.0  300.0          0.01                3.0   \n",
       "\n",
       "   Weighted_Price    mid    avg  \n",
       "0           300.0  300.0  300.0  \n",
       "1           300.0  300.0  300.0  \n",
       "2           300.0  300.0  300.0  \n",
       "3           300.0  300.0  300.0  \n",
       "4           300.0  300.0  300.0  "
      ]
     },
     "execution_count": 9,
     "metadata": {},
     "output_type": "execute_result"
    }
   ],
   "source": [
    "token.head()"
   ]
  },
  {
   "cell_type": "code",
   "execution_count": 11,
   "metadata": {},
   "outputs": [],
   "source": [
    "import plotly.plotly as py\n",
    "import plotly.graph_objs as go"
   ]
  },
  {
   "cell_type": "code",
   "execution_count": 12,
   "metadata": {},
   "outputs": [
    {
     "name": "stderr",
     "output_type": "stream",
     "text": [
      "/Users/zerindong/anaconda2/lib/python2.7/site-packages/plotly/plotly/plotly.py:219: UserWarning:\n",
      "\n",
      "Woah there! Look at all those points! Due to browser limitations, the Plotly SVG drawing functions have a hard time graphing more than 500k data points for line charts, or 40k points for other types of charts. Here are some suggestions:\n",
      "(1) Use the `plotly.graph_objs.Scattergl` trace object to generate a WebGl graph.\n",
      "(2) Trying using the image API to return an image instead of a graph URL\n",
      "(3) Use matplotlib\n",
      "(4) See if you can create your visualization with fewer data points\n",
      "\n",
      "If the visualization you're using aggregates points (e.g., box plot, histogram, etc.) you can disregard this warning.\n",
      "\n"
     ]
    },
    {
     "name": "stdout",
     "output_type": "stream",
     "text": [
      "The draw time for this plot will be slow for all clients.\n"
     ]
    },
    {
     "name": "stderr",
     "output_type": "stream",
     "text": [
      "/Users/zerindong/anaconda2/lib/python2.7/site-packages/plotly/api/v1/clientresp.py:40: UserWarning:\n",
      "\n",
      "Estimated Draw Time Too Long\n",
      "\n"
     ]
    },
    {
     "data": {
      "text/html": [
       "<iframe id=\"igraph\" scrolling=\"no\" style=\"border:none;\" seamless=\"seamless\" src=\"https://plot.ly/~zerin5577/2.embed\" height=\"525px\" width=\"100%\"></iframe>"
      ],
      "text/plain": [
       "<plotly.tools.PlotlyDisplay object>"
      ]
     },
     "execution_count": 12,
     "metadata": {},
     "output_type": "execute_result"
    }
   ],
   "source": [
    "data = [go.Scatter(\n",
    "          x=token.Timestamp,\n",
    "          y=token['avg'])]\n",
    "\n",
    "py.iplot(data)\n"
   ]
  },
  {
   "cell_type": "code",
   "execution_count": 13,
   "metadata": {},
   "outputs": [
    {
     "name": "stdout",
     "output_type": "stream",
     "text": [
      "The draw time for this plot will be slow for all clients.\n"
     ]
    },
    {
     "data": {
      "text/html": [
       "<iframe id=\"igraph\" scrolling=\"no\" style=\"border:none;\" seamless=\"seamless\" src=\"https://plot.ly/~zerin5577/4.embed\" height=\"525px\" width=\"100%\"></iframe>"
      ],
      "text/plain": [
       "<plotly.tools.PlotlyDisplay object>"
      ]
     },
     "execution_count": 13,
     "metadata": {},
     "output_type": "execute_result"
    }
   ],
   "source": [
    "data = [go.Scatter(\n",
    "          x=token.Timestamp,\n",
    "          y=token['mid'])]\n",
    "\n",
    "py.iplot(data)"
   ]
  },
  {
   "cell_type": "code",
   "execution_count": 25,
   "metadata": {},
   "outputs": [
    {
     "data": {
      "text/html": [
       "<div>\n",
       "<style>\n",
       "    .dataframe thead tr:only-child th {\n",
       "        text-align: right;\n",
       "    }\n",
       "\n",
       "    .dataframe thead th {\n",
       "        text-align: left;\n",
       "    }\n",
       "\n",
       "    .dataframe tbody tr th {\n",
       "        vertical-align: top;\n",
       "    }\n",
       "</style>\n",
       "<table border=\"1\" class=\"dataframe\">\n",
       "  <thead>\n",
       "    <tr style=\"text-align: right;\">\n",
       "      <th></th>\n",
       "      <th>count</th>\n",
       "      <th>mean</th>\n",
       "      <th>std</th>\n",
       "      <th>min</th>\n",
       "      <th>25%</th>\n",
       "      <th>50%</th>\n",
       "      <th>75%</th>\n",
       "      <th>max</th>\n",
       "    </tr>\n",
       "  </thead>\n",
       "  <tbody>\n",
       "    <tr>\n",
       "      <th>Timestamp</th>\n",
       "      <td>1459076.0</td>\n",
       "      <td>1.464675e+09</td>\n",
       "      <td>2.529114e+07</td>\n",
       "      <td>1.417412e+09</td>\n",
       "      <td>1.442799e+09</td>\n",
       "      <td>1.464685e+09</td>\n",
       "      <td>1.486572e+09</td>\n",
       "      <td>1.508458e+09</td>\n",
       "    </tr>\n",
       "    <tr>\n",
       "      <th>Open</th>\n",
       "      <td>1459076.0</td>\n",
       "      <td>9.725676e+02</td>\n",
       "      <td>1.131727e+03</td>\n",
       "      <td>6.000000e-02</td>\n",
       "      <td>2.801675e+02</td>\n",
       "      <td>5.327600e+02</td>\n",
       "      <td>1.011970e+03</td>\n",
       "      <td>5.864050e+03</td>\n",
       "    </tr>\n",
       "    <tr>\n",
       "      <th>High</th>\n",
       "      <td>1459076.0</td>\n",
       "      <td>9.729051e+02</td>\n",
       "      <td>1.132138e+03</td>\n",
       "      <td>6.000000e-02</td>\n",
       "      <td>2.802400e+02</td>\n",
       "      <td>5.329700e+02</td>\n",
       "      <td>1.012062e+03</td>\n",
       "      <td>5.867000e+03</td>\n",
       "    </tr>\n",
       "    <tr>\n",
       "      <th>Low</th>\n",
       "      <td>1459076.0</td>\n",
       "      <td>9.721621e+02</td>\n",
       "      <td>1.131245e+03</td>\n",
       "      <td>6.000000e-02</td>\n",
       "      <td>2.800900e+02</td>\n",
       "      <td>5.324100e+02</td>\n",
       "      <td>1.011530e+03</td>\n",
       "      <td>5.850900e+03</td>\n",
       "    </tr>\n",
       "    <tr>\n",
       "      <th>Close</th>\n",
       "      <td>1459076.0</td>\n",
       "      <td>9.725577e+02</td>\n",
       "      <td>1.131734e+03</td>\n",
       "      <td>6.000000e-02</td>\n",
       "      <td>2.801600e+02</td>\n",
       "      <td>5.327400e+02</td>\n",
       "      <td>1.011950e+03</td>\n",
       "      <td>5.864050e+03</td>\n",
       "    </tr>\n",
       "    <tr>\n",
       "      <th>Volume_(BTC)</th>\n",
       "      <td>1459076.0</td>\n",
       "      <td>6.219794e+00</td>\n",
       "      <td>1.525087e+01</td>\n",
       "      <td>1.000000e-08</td>\n",
       "      <td>6.164900e-01</td>\n",
       "      <td>2.118200e+00</td>\n",
       "      <td>6.174839e+00</td>\n",
       "      <td>1.563267e+03</td>\n",
       "    </tr>\n",
       "    <tr>\n",
       "      <th>Volume_(Currency)</th>\n",
       "      <td>1459076.0</td>\n",
       "      <td>7.768226e+03</td>\n",
       "      <td>2.577190e+04</td>\n",
       "      <td>2.641700e-06</td>\n",
       "      <td>2.785014e+02</td>\n",
       "      <td>1.141791e+03</td>\n",
       "      <td>4.994719e+03</td>\n",
       "      <td>2.394037e+06</td>\n",
       "    </tr>\n",
       "    <tr>\n",
       "      <th>Weighted_Price</th>\n",
       "      <td>1459076.0</td>\n",
       "      <td>9.725320e+02</td>\n",
       "      <td>1.131685e+03</td>\n",
       "      <td>6.000000e-02</td>\n",
       "      <td>2.801736e+02</td>\n",
       "      <td>5.327155e+02</td>\n",
       "      <td>1.011890e+03</td>\n",
       "      <td>5.862071e+03</td>\n",
       "    </tr>\n",
       "    <tr>\n",
       "      <th>mid</th>\n",
       "      <td>1459076.0</td>\n",
       "      <td>9.725627e+02</td>\n",
       "      <td>1.131730e+03</td>\n",
       "      <td>6.000000e-02</td>\n",
       "      <td>2.801787e+02</td>\n",
       "      <td>5.327400e+02</td>\n",
       "      <td>1.011940e+03</td>\n",
       "      <td>5.856070e+03</td>\n",
       "    </tr>\n",
       "    <tr>\n",
       "      <th>avg</th>\n",
       "      <td>1459076.0</td>\n",
       "      <td>9.725336e+02</td>\n",
       "      <td>1.131691e+03</td>\n",
       "      <td>6.000000e-02</td>\n",
       "      <td>2.801800e+02</td>\n",
       "      <td>5.327075e+02</td>\n",
       "      <td>1.011895e+03</td>\n",
       "      <td>5.855055e+03</td>\n",
       "    </tr>\n",
       "  </tbody>\n",
       "</table>\n",
       "</div>"
      ],
      "text/plain": [
       "                       count          mean           std           min  \\\n",
       "Timestamp          1459076.0  1.464675e+09  2.529114e+07  1.417412e+09   \n",
       "Open               1459076.0  9.725676e+02  1.131727e+03  6.000000e-02   \n",
       "High               1459076.0  9.729051e+02  1.132138e+03  6.000000e-02   \n",
       "Low                1459076.0  9.721621e+02  1.131245e+03  6.000000e-02   \n",
       "Close              1459076.0  9.725577e+02  1.131734e+03  6.000000e-02   \n",
       "Volume_(BTC)       1459076.0  6.219794e+00  1.525087e+01  1.000000e-08   \n",
       "Volume_(Currency)  1459076.0  7.768226e+03  2.577190e+04  2.641700e-06   \n",
       "Weighted_Price     1459076.0  9.725320e+02  1.131685e+03  6.000000e-02   \n",
       "mid                1459076.0  9.725627e+02  1.131730e+03  6.000000e-02   \n",
       "avg                1459076.0  9.725336e+02  1.131691e+03  6.000000e-02   \n",
       "\n",
       "                            25%           50%           75%           max  \n",
       "Timestamp          1.442799e+09  1.464685e+09  1.486572e+09  1.508458e+09  \n",
       "Open               2.801675e+02  5.327600e+02  1.011970e+03  5.864050e+03  \n",
       "High               2.802400e+02  5.329700e+02  1.012062e+03  5.867000e+03  \n",
       "Low                2.800900e+02  5.324100e+02  1.011530e+03  5.850900e+03  \n",
       "Close              2.801600e+02  5.327400e+02  1.011950e+03  5.864050e+03  \n",
       "Volume_(BTC)       6.164900e-01  2.118200e+00  6.174839e+00  1.563267e+03  \n",
       "Volume_(Currency)  2.785014e+02  1.141791e+03  4.994719e+03  2.394037e+06  \n",
       "Weighted_Price     2.801736e+02  5.327155e+02  1.011890e+03  5.862071e+03  \n",
       "mid                2.801787e+02  5.327400e+02  1.011940e+03  5.856070e+03  \n",
       "avg                2.801800e+02  5.327075e+02  1.011895e+03  5.855055e+03  "
      ]
     },
     "execution_count": 25,
     "metadata": {},
     "output_type": "execute_result"
    }
   ],
   "source": [
    "token.describe().T"
   ]
  },
  {
   "cell_type": "code",
   "execution_count": null,
   "metadata": {
    "collapsed": true
   },
   "outputs": [],
   "source": []
  }
 ],
 "metadata": {
  "kernelspec": {
   "display_name": "Python 2",
   "language": "python",
   "name": "python2"
  },
  "language_info": {
   "codemirror_mode": {
    "name": "ipython",
    "version": 2
   },
   "file_extension": ".py",
   "mimetype": "text/x-python",
   "name": "python",
   "nbconvert_exporter": "python",
   "pygments_lexer": "ipython2",
   "version": "2.7.13"
  }
 },
 "nbformat": 4,
 "nbformat_minor": 2
}
